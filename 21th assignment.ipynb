{
 "cells": [
  {
   "cell_type": "raw",
   "id": "f0346ea9",
   "metadata": {},
   "source": [
    "1. Add the current date to the text file today.txt as a string."
   ]
  },
  {
   "cell_type": "code",
   "execution_count": 2,
   "id": "75ce1ca5",
   "metadata": {},
   "outputs": [
    {
     "data": {
      "text/plain": [
       "'2023-08-28'"
      ]
     },
     "execution_count": 2,
     "metadata": {},
     "output_type": "execute_result"
    }
   ],
   "source": [
    "import datetime\n",
    "from datetime import date\n",
    "now = date.today()\n",
    "cur_date = now.isoformat()\n",
    "cur_date"
   ]
  },
  {
   "cell_type": "code",
   "execution_count": 3,
   "id": "b5f7f2c3",
   "metadata": {},
   "outputs": [],
   "source": [
    "with  open('today.txt','w')as file:\n",
    "    file.write(cur_date)"
   ]
  },
  {
   "cell_type": "code",
   "execution_count": null,
   "id": "c23fe7b6",
   "metadata": {},
   "outputs": [],
   "source": []
  },
  {
   "cell_type": "code",
   "execution_count": null,
   "id": "f5c22d4b",
   "metadata": {},
   "outputs": [],
   "source": []
  },
  {
   "cell_type": "raw",
   "id": "6413d742",
   "metadata": {},
   "source": [
    "2. Read the text file today.txt into the string today_string"
   ]
  },
  {
   "cell_type": "code",
   "execution_count": 4,
   "id": "3d2bd809",
   "metadata": {},
   "outputs": [
    {
     "data": {
      "text/plain": [
       "'2023-08-28'"
      ]
     },
     "execution_count": 4,
     "metadata": {},
     "output_type": "execute_result"
    }
   ],
   "source": [
    "with open('today.txt','r')as file:\n",
    "    today_string=file.read()\n",
    "today_string"
   ]
  },
  {
   "cell_type": "code",
   "execution_count": null,
   "id": "e3bce827",
   "metadata": {},
   "outputs": [],
   "source": []
  },
  {
   "cell_type": "code",
   "execution_count": null,
   "id": "2e65f584",
   "metadata": {},
   "outputs": [],
   "source": []
  },
  {
   "cell_type": "raw",
   "id": "9840d023",
   "metadata": {},
   "source": [
    "3. Parse the date from today_string."
   ]
  },
  {
   "cell_type": "code",
   "execution_count": 5,
   "id": "4963d86d",
   "metadata": {},
   "outputs": [
    {
     "data": {
      "text/plain": [
       "datetime.datetime(2023, 8, 28, 0, 0)"
      ]
     },
     "execution_count": 5,
     "metadata": {},
     "output_type": "execute_result"
    }
   ],
   "source": [
    "from datetime import datetime\n",
    "format = '%Y-%m-%d'\n",
    "datetime.strptime(today_string,format)"
   ]
  },
  {
   "cell_type": "code",
   "execution_count": null,
   "id": "d8bbd640",
   "metadata": {},
   "outputs": [],
   "source": []
  },
  {
   "cell_type": "raw",
   "id": "f9c829b3",
   "metadata": {},
   "source": [
    "4. List the files in your current directory"
   ]
  },
  {
   "cell_type": "code",
   "execution_count": 10,
   "id": "5e8011d4",
   "metadata": {},
   "outputs": [
    {
     "data": {
      "text/plain": [
       "['22th assignment.ipynb',\n",
       " 'practice 5.ipynb',\n",
       " 'class first assignment.ipynb',\n",
       " '12th assignment.ipynb',\n",
       " 'practice 1.ipynb',\n",
       " 'practice 3.ipynb',\n",
       " '21th assignment.ipynb',\n",
       " 'practice 4.ipynb',\n",
       " '19 nov practice.ipynb',\n",
       " 'today.txt',\n",
       " '17th assignment.ipynb',\n",
       " '9th assignment.ipynb',\n",
       " '1 class.ipynb',\n",
       " 'test.txt.ipynb',\n",
       " 'practice 6.ipynb',\n",
       " 'practice 2.ipynb',\n",
       " '19th assignment.ipynb',\n",
       " '14th assignment.ipynb',\n",
       " '11th assignement.ipynb',\n",
       " '6 assignment.ipynb',\n",
       " '18th assignment.ipynb',\n",
       " '15th assignment.ipynb',\n",
       " '26 nov practice.ipynb',\n",
       " 'books.csv',\n",
       " '20 th assignment.ipynb',\n",
       " '25th assignment.ipynb',\n",
       " '5 assignment.ipynb',\n",
       " '24 assignment.ipynb',\n",
       " '18 march python stats 2.ipynb',\n",
       " '16th assignment.ipynb',\n",
       " '8th assignment.ipynb',\n",
       " 'test.txt',\n",
       " '.ipynb_checkpoints',\n",
       " 'task no 1.ipynb',\n",
       " '10th assignment.ipynb',\n",
       " 'books.db',\n",
       " '26 feb stats.ipynb',\n",
       " '3 december.ipynb',\n",
       " '23th assignment.ipynb',\n",
       " '19 march .ipynb',\n",
       " 'programming assignment 1st.ipynb',\n",
       " '4 assignment.ipynb',\n",
       " '13th assignment.ipynb',\n",
       " '4 december.ipynb',\n",
       " '20 nov practice.ipynb',\n",
       " '7th assignment .ipynb']"
      ]
     },
     "execution_count": 10,
     "metadata": {},
     "output_type": "execute_result"
    }
   ],
   "source": [
    "import os\n",
    "os.listdir('.')"
   ]
  },
  {
   "cell_type": "code",
   "execution_count": null,
   "id": "143b9645",
   "metadata": {},
   "outputs": [],
   "source": []
  },
  {
   "cell_type": "raw",
   "id": "b3970fe1",
   "metadata": {},
   "source": [
    "5. Create a list of all of the files in your parent directory (minimum five files should be available)."
   ]
  },
  {
   "cell_type": "code",
   "execution_count": null,
   "id": "2ad45ef5",
   "metadata": {},
   "outputs": [],
   "source": []
  },
  {
   "cell_type": "code",
   "execution_count": null,
   "id": "c86728aa",
   "metadata": {},
   "outputs": [],
   "source": []
  },
  {
   "cell_type": "raw",
   "id": "1f40342a",
   "metadata": {},
   "source": [
    "6. Use multiprocessing to create three separate processes. Make each one wait a random number of\n",
    "seconds between one and five, print the current time, and then exit."
   ]
  },
  {
   "cell_type": "code",
   "execution_count": 13,
   "id": "9b6c04d1",
   "metadata": {},
   "outputs": [],
   "source": [
    "import multiprocessing\n",
    "\n",
    "def printsec(seconds):\n",
    "    from datetime import datetime\n",
    "    from time import sleep\n",
    "    sleep(seconds)\n",
    "    print('wait', seconds, 'seconds, time is', datetime.utcnow())\n",
    "    \n",
    "if __name__ == '__main__':\n",
    "    import random    \n",
    "    for n in range(3):\n",
    "        seconds = random.random()\n",
    "        proc = multiprocessing.Process(target=printsec, args=(seconds,))\n",
    "        proc.start()"
   ]
  },
  {
   "cell_type": "code",
   "execution_count": 14,
   "id": "0814b26b",
   "metadata": {},
   "outputs": [
    {
     "name": "stdout",
     "output_type": "stream",
     "text": [
      "python: can't open file 'abc.py': [Errno 2] No such file or directory\r\n"
     ]
    }
   ],
   "source": [
    "!python abc.py\n",
    "     "
   ]
  },
  {
   "cell_type": "code",
   "execution_count": null,
   "id": "afd1aeb5",
   "metadata": {},
   "outputs": [],
   "source": []
  },
  {
   "cell_type": "raw",
   "id": "ed9f17dc",
   "metadata": {},
   "source": [
    "7. Create a date object of your day of birth."
   ]
  },
  {
   "cell_type": "code",
   "execution_count": 16,
   "id": "c7ae23ab",
   "metadata": {},
   "outputs": [
    {
     "data": {
      "text/plain": [
       "datetime.date(1994, 1, 19)"
      ]
     },
     "execution_count": 16,
     "metadata": {},
     "output_type": "execute_result"
    }
   ],
   "source": [
    "my_dob = date(1994,1,19)\n",
    "my_dob"
   ]
  },
  {
   "cell_type": "code",
   "execution_count": null,
   "id": "d27cf120",
   "metadata": {},
   "outputs": [],
   "source": []
  },
  {
   "cell_type": "raw",
   "id": "a692a25a",
   "metadata": {},
   "source": [
    "8. What day of the week was your day of birth?"
   ]
  },
  {
   "cell_type": "code",
   "execution_count": 17,
   "id": "e9bff2bf",
   "metadata": {},
   "outputs": [
    {
     "data": {
      "text/plain": [
       "2"
      ]
     },
     "execution_count": 17,
     "metadata": {},
     "output_type": "execute_result"
    }
   ],
   "source": [
    "my_dob.weekday()"
   ]
  },
  {
   "cell_type": "code",
   "execution_count": null,
   "id": "297476a6",
   "metadata": {},
   "outputs": [],
   "source": []
  },
  {
   "cell_type": "raw",
   "id": "8c481f03",
   "metadata": {},
   "source": [
    "9. When will you be (or when were you) 10,000 days old?"
   ]
  },
  {
   "cell_type": "code",
   "execution_count": 18,
   "id": "76057d35",
   "metadata": {},
   "outputs": [
    {
     "data": {
      "text/plain": [
       "datetime.date(2021, 6, 6)"
      ]
     },
     "execution_count": 18,
     "metadata": {},
     "output_type": "execute_result"
    }
   ],
   "source": [
    "from datetime import timedelta\n",
    "day10000 = my_dob + timedelta(days=10000)\n",
    "day10000"
   ]
  },
  {
   "cell_type": "code",
   "execution_count": null,
   "id": "cc49ae49",
   "metadata": {},
   "outputs": [],
   "source": []
  },
  {
   "cell_type": "code",
   "execution_count": null,
   "id": "ae2bb085",
   "metadata": {},
   "outputs": [],
   "source": []
  }
 ],
 "metadata": {
  "kernelspec": {
   "display_name": "Python 3",
   "language": "python",
   "name": "python3"
  },
  "language_info": {
   "codemirror_mode": {
    "name": "ipython",
    "version": 3
   },
   "file_extension": ".py",
   "mimetype": "text/x-python",
   "name": "python",
   "nbconvert_exporter": "python",
   "pygments_lexer": "ipython3",
   "version": "3.8.8"
  }
 },
 "nbformat": 4,
 "nbformat_minor": 5
}
